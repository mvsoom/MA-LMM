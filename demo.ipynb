{
 "cells": [
  {
   "cell_type": "markdown",
   "metadata": {},
   "source": [
    "#### Large RAM is required to load the larger models. Running on GPU can optimize inference speed."
   ]
  },
  {
   "cell_type": "code",
   "execution_count": 1,
   "metadata": {},
   "outputs": [],
   "source": [
    "import sys\n",
    "import os\n",
    "import torch\n",
    "import numpy as np\n",
    "from lavis.models import load_model_and_preprocess\n",
    "\n",
    "import decord\n",
    "from decord import VideoReader\n",
    "from decord import cpu, gpu\n",
    "decord.bridge.set_bridge('torch')"
   ]
  },
  {
   "cell_type": "markdown",
   "metadata": {},
   "source": [
    "#### Load an example video"
   ]
  },
  {
   "cell_type": "code",
   "execution_count": 2,
   "metadata": {},
   "outputs": [
    {
     "name": "stdout",
     "output_type": "stream",
     "text": [
      "video_duration: 70.3, fps: 24.0\n"
     ]
    }
   ],
   "source": [
    "def load_video(vr, start_time, end_time, fps, num_frames=20):\n",
    "    start_index = int(round(start_time * fps))\n",
    "    end_index = int(round(end_time * fps))\n",
    "    select_frame_index = np.rint(np.linspace(start_index, end_index-1, num_frames)).astype(int).tolist()\n",
    "    frames = vr.get_batch(select_frame_index).permute(3, 0, 1, 2).to(torch.float32)\n",
    "    return frames\n",
    "\n",
    "file_path = \"example/video.mp4\"\n",
    "vr = VideoReader(file_path, ctx=cpu(0))\n",
    "total_frames = len(vr)\n",
    "fps = vr.get_avg_fps()\n",
    "duration = total_frames / fps\n",
    "\n",
    "print(\"video_duration: {:.1f}, fps: {:.1f}\".format(duration, fps))"
   ]
  },
  {
   "cell_type": "code",
   "execution_count": 3,
   "metadata": {},
   "outputs": [
    {
     "name": "stdout",
     "output_type": "stream",
     "text": [
      "cuda\n"
     ]
    }
   ],
   "source": [
    "# setup device to use\n",
    "device = torch.device(\"cuda\") if torch.cuda.is_available() else \"cpu\"\n",
    "print(device)"
   ]
  },
  {
   "cell_type": "markdown",
   "metadata": {},
   "source": [
    "#### Visualize the full video"
   ]
  },
  {
   "cell_type": "code",
   "execution_count": 4,
   "metadata": {},
   "outputs": [
    {
     "data": {
      "text/html": [
       "\n",
       "<video width=\"640\" height=\"480\" controls>\n",
       "  <source src=\"example/video.mp4\" type=\"video/mp4\">\n",
       "</video>\n"
      ],
      "text/plain": [
       "<IPython.core.display.HTML object>"
      ]
     },
     "execution_count": 4,
     "metadata": {},
     "output_type": "execute_result"
    }
   ],
   "source": [
    "from IPython.display import HTML\n",
    "\n",
    "# Embed video using HTML\n",
    "HTML(\"\"\"\n",
    "<video width=\"640\" height=\"480\" controls>\n",
    "  <source src=\"example/video.mp4\" type=\"video/mp4\">\n",
    "</video>\n",
    "\"\"\")"
   ]
  },
  {
   "cell_type": "markdown",
   "metadata": {},
   "source": [
    "#### Load pre-trained InstructBlip model weights"
   ]
  },
  {
   "cell_type": "code",
   "execution_count": 5,
   "metadata": {},
   "outputs": [
    {
     "data": {
      "application/vnd.jupyter.widget-view+json": {
       "model_id": "c1949ee9a2b4452eb49b687d3d017e47",
       "version_major": 2,
       "version_minor": 0
      },
      "text/plain": [
       "Loading checkpoint shards:   0%|          | 0/2 [00:00<?, ?it/s]"
      ]
     },
     "metadata": {},
     "output_type": "display_data"
    }
   ],
   "source": [
    "# We associate a model with its preprocessors to make it easier for inference.\n",
    "# You can specify the memory_bank_length and num_frames here.\n",
    "model, vis_processors, _ = load_model_and_preprocess(\n",
    "    name=\"blip2_vicuna_instruct_malmm\", model_type=\"vicuna7b\", is_eval=True, device=device, memory_bank_length=10, num_frames=20,\n",
    ")\n",
    "# model, vis_processors, _ = load_model_and_preprocess(\n",
    "#     name=\"blip2_vicuna_instruct_malmm\", model_type=\"vicuna13b\", is_eval=True, device=device, memory_bank_length=10, num_frames=20,\n",
    "# )"
   ]
  },
  {
   "cell_type": "markdown",
   "metadata": {},
   "source": [
    "#### Load finetuned model weights"
   ]
  },
  {
   "cell_type": "code",
   "execution_count": 6,
   "metadata": {},
   "outputs": [],
   "source": [
    "# Model loads the default config from lavis/configs/models/blip2/blip2_instruct_vicuna7b.yaml.\n",
    "# If you want to load a finetuned checkpoints, such as the finetuned model weight of ActivityNet-QA dataset,\n",
    "# you need to first set the load_finetuned=True and specify the finetuned checkpoint path and reload the model again.\n",
    "\n",
    "# load_finetuned: True\n",
    "# finetuned: \"saved_model/ActivityNet_qa/checkpoint_best.pth\"\n",
    "\n",
    "# model, vis_processors, _ = load_model_and_preprocess(\n",
    "#     name=\"blip2_vicuna_instruct_malmm\", model_type=\"vicuna7b\", is_eval=True, device=device, memory_bank_length=10, num_frames=20,\n",
    "# )"
   ]
  },
  {
   "cell_type": "markdown",
   "metadata": {},
   "source": [
    "#### Instructed zero-shot video-to-language generation"
   ]
  },
  {
   "cell_type": "code",
   "execution_count": 10,
   "metadata": {},
   "outputs": [
    {
     "data": {
      "text/plain": [
       "['scrambled eggs']"
      ]
     },
     "execution_count": 10,
     "metadata": {},
     "output_type": "execute_result"
    }
   ],
   "source": [
    "# load video by specifying the start_time and end_time\n",
    "video = load_video(vr, start_time=0, end_time=duration, fps=fps, num_frames=20)\n",
    "# prepare the video as model input using the associated processors\n",
    "video = vis_processors[\"eval\"](video).to(device).unsqueeze(0)\n",
    "model.generate({\"image\": video, \"prompt\": \"Question: what is the recipe of this video? Answer:\"})"
   ]
  },
  {
   "cell_type": "markdown",
   "metadata": {},
   "source": [
    "#### Online off-the-shelf setting with custom questions"
   ]
  },
  {
   "cell_type": "code",
   "execution_count": 8,
   "metadata": {},
   "outputs": [
    {
     "data": {
      "text/plain": [
       "['eggs will be scrambled']"
      ]
     },
     "execution_count": 8,
     "metadata": {},
     "output_type": "execute_result"
    }
   ],
   "source": [
    "video = load_video(vr, start_time=0, end_time=37, fps=fps, num_frames=20)\n",
    "video = vis_processors[\"eval\"](video).to(device).unsqueeze(0)\n",
    "model.generate({\"image\": video, \"prompt\": \"Question: what will happen for the next 5 seconds? Answer:\"})"
   ]
  },
  {
   "cell_type": "markdown",
   "metadata": {},
   "source": [
    "#### Generate multiple answers"
   ]
  },
  {
   "cell_type": "code",
   "execution_count": 9,
   "metadata": {},
   "outputs": [
    {
     "data": {
      "text/plain": [
       "['cooking', 'recipe', 'egg recipe', 'cooking eggs', 'cooking eggs on stove']"
      ]
     },
     "execution_count": 9,
     "metadata": {},
     "output_type": "execute_result"
    }
   ],
   "source": [
    "video = load_video(vr, start_time=0, end_time=duration, fps=fps, num_frames=20)\n",
    "video = vis_processors[\"eval\"](video).to(device).unsqueeze(0)\n",
    "model.generate({\"image\": video, \"prompt\": \"Question: what does this video show? Answer:\"}, num_captions=5)"
   ]
  },
  {
   "cell_type": "code",
   "execution_count": null,
   "metadata": {},
   "outputs": [],
   "source": []
  }
 ],
 "metadata": {
  "kernelspec": {
   "display_name": "llm",
   "language": "python",
   "name": "llm"
  },
  "language_info": {
   "codemirror_mode": {
    "name": "ipython",
    "version": 3
   },
   "file_extension": ".py",
   "mimetype": "text/x-python",
   "name": "python",
   "nbconvert_exporter": "python",
   "pygments_lexer": "ipython3",
   "version": "3.9.16"
  },
  "vscode": {
   "interpreter": {
    "hash": "d4d1e4263499bec80672ea0156c357c1ee493ec2b1c70f0acce89fc37c4a6abe"
   }
  }
 },
 "nbformat": 4,
 "nbformat_minor": 4
}
